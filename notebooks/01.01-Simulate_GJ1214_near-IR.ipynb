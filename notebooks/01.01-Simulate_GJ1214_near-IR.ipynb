{
 "cells": [
  {
   "cell_type": "markdown",
   "metadata": {},
   "source": [
    "# Planet transit simulations"
   ]
  },
  {
   "cell_type": "markdown",
   "metadata": {},
   "source": [
    "Here we try to plot an exoplanet transit spectrum."
   ]
  },
  {
   "cell_type": "code",
   "execution_count": 1,
   "metadata": {
    "collapsed": true
   },
   "outputs": [],
   "source": [
    "# %load ~/Desktop/defaults.py\n",
    "import pandas as pd\n",
    "import numpy as np\n",
    "import matplotlib.pyplot as plt\n",
    "%matplotlib inline\n",
    "%config InlineBackend.figure_format = 'retina'"
   ]
  },
  {
   "cell_type": "code",
   "execution_count": 2,
   "metadata": {
    "collapsed": true
   },
   "outputs": [],
   "source": [
    "import astropy.units as u"
   ]
  },
  {
   "cell_type": "markdown",
   "metadata": {},
   "source": [
    "### Get exoplanet transit spectrum\n",
    "\n",
    "We can use Caroline Morley's models from [her website](https://www.carolinemorley.com/models).  We want:\n",
    "\n",
    "\"MORLEY ET AL. 2015: SUB-NEPTUNE MODELS INCLUDING THE EFFECTS OF CLOUDS AND HAZES\"\n",
    "> Models of GJ 1214b “analogs” from Morley et al. 2015, including cloudy, hazy, and cloud-free models. These include thermal emission, transmission, and albedo spectra. Other similar models available upon request. "
   ]
  },
  {
   "cell_type": "markdown",
   "metadata": {},
   "source": [
    "Let's read in the transmission spectra data."
   ]
  },
  {
   "cell_type": "code",
   "execution_count": 3,
   "metadata": {},
   "outputs": [],
   "source": [
    "#! cat ../data/Morley2015_models/published_models/_README.txt"
   ]
  },
  {
   "cell_type": "code",
   "execution_count": 4,
   "metadata": {},
   "outputs": [
    {
     "name": "stdout",
     "output_type": "stream",
     "text": [
      "gj1214-1000x-0.3x-nc.spec gj1214-150x-1x-nc.spec    gj1214-300x-0.3x-nc.spec\r\n",
      "gj1214-1000x-10x-nc.spec  gj1214-150x-3x-nc.spec    gj1214-300x-10x-nc.spec\r\n",
      "gj1214-1000x-1x-nc.spec   gj1214-200x-0.3x-nc.spec  gj1214-300x-1x-nc.spec\r\n",
      "gj1214-1000x-3x-nc.spec   gj1214-200x-10x-nc.spec   gj1214-300x-3x-nc.spec\r\n",
      "gj1214-100x-0.3x-nc.spec  gj1214-200x-1x-nc.spec    gj1214-50x-0.3x-nc.spec\r\n",
      "gj1214-100x-10x-nc.spec   gj1214-200x-3x-nc.spec    gj1214-50x-10x-nc.spec\r\n",
      "gj1214-100x-1x-nc.spec    gj1214-250x-0.3x-nc.spec  gj1214-50x-1x-nc.spec\r\n",
      "gj1214-100x-3x-nc.spec    gj1214-250x-10x-nc.spec   gj1214-50x-30x-nc.spec\r\n",
      "gj1214-150x-0.3x-nc.spec  gj1214-250x-1x-nc.spec    gj1214-50x-3x-nc.spec\r\n",
      "gj1214-150x-10x-nc.spec   gj1214-250x-3x-nc.spec\r\n"
     ]
    }
   ],
   "source": [
    "! ls ../data/Morley2015_models/published_models/emission_spectra/cloud-free/"
   ]
  },
  {
   "cell_type": "markdown",
   "metadata": {},
   "source": [
    "The file names describe the contents.\n",
    "> cloud-free:\n",
    "gj1214-METALLICITY-INCIDENTFLUX-nc.[[append]]\n",
    "e.g. gj1214-50x-0.3x-nc.spec is 50x solar, 0.3x GJ 1214b's\n",
    "\tincident flux, and cloud-free, emission spectrum. "
   ]
  },
  {
   "cell_type": "code",
   "execution_count": 5,
   "metadata": {},
   "outputs": [
    {
     "name": "stdout",
     "output_type": "stream",
     "text": [
      "wavelength (microns) \t radius (km) \r\n",
      "      30.0000   17201.5230     \r\n",
      "      29.9911   17065.3259     \r\n",
      "      29.9822   17110.6001     \r\n",
      "      29.9733   17276.7692     \r\n",
      "      29.9644   17066.4351     \r\n",
      "      29.9555   17084.3500     \r\n",
      "      29.9466   17123.8913     \r\n",
      "      29.9377   17213.5251     \r\n",
      "      29.9289   17356.1280     \r\n"
     ]
    }
   ],
   "source": [
    "! head ../data/Morley2015_models/published_models/transmission_spectra/cloud-free/gj1214-100x-1x-nc.out"
   ]
  },
  {
   "cell_type": "code",
   "execution_count": 6,
   "metadata": {},
   "outputs": [],
   "source": [
    "fn = '../data/Morley2015_models/published_models/transmission_spectra/cloud-free/gj1214-100x-1x-nc.out'\n",
    "df_raw = pd.read_csv(fn, delim_whitespace=True, names=['wl_um', 'radius_km'], skiprows=1)"
   ]
  },
  {
   "cell_type": "code",
   "execution_count": 7,
   "metadata": {},
   "outputs": [
    {
     "data": {
      "text/html": [
       "<div>\n",
       "<style>\n",
       "    .dataframe thead tr:only-child th {\n",
       "        text-align: right;\n",
       "    }\n",
       "\n",
       "    .dataframe thead th {\n",
       "        text-align: left;\n",
       "    }\n",
       "\n",
       "    .dataframe tbody tr th {\n",
       "        vertical-align: top;\n",
       "    }\n",
       "</style>\n",
       "<table border=\"1\" class=\"dataframe\">\n",
       "  <thead>\n",
       "    <tr style=\"text-align: right;\">\n",
       "      <th></th>\n",
       "      <th>wl_um</th>\n",
       "      <th>radius_km</th>\n",
       "    </tr>\n",
       "  </thead>\n",
       "  <tbody>\n",
       "    <tr>\n",
       "      <th>0</th>\n",
       "      <td>30.0000</td>\n",
       "      <td>17201.5230</td>\n",
       "    </tr>\n",
       "    <tr>\n",
       "      <th>1</th>\n",
       "      <td>29.9911</td>\n",
       "      <td>17065.3259</td>\n",
       "    </tr>\n",
       "    <tr>\n",
       "      <th>2</th>\n",
       "      <td>29.9822</td>\n",
       "      <td>17110.6001</td>\n",
       "    </tr>\n",
       "    <tr>\n",
       "      <th>3</th>\n",
       "      <td>29.9733</td>\n",
       "      <td>17276.7692</td>\n",
       "    </tr>\n",
       "    <tr>\n",
       "      <th>4</th>\n",
       "      <td>29.9644</td>\n",
       "      <td>17066.4351</td>\n",
       "    </tr>\n",
       "  </tbody>\n",
       "</table>\n",
       "</div>"
      ],
      "text/plain": [
       "     wl_um   radius_km\n",
       "0  30.0000  17201.5230\n",
       "1  29.9911  17065.3259\n",
       "2  29.9822  17110.6001\n",
       "3  29.9733  17276.7692\n",
       "4  29.9644  17066.4351"
      ]
     },
     "execution_count": 7,
     "metadata": {},
     "output_type": "execute_result"
    }
   ],
   "source": [
    "df_raw.head()"
   ]
  },
  {
   "cell_type": "code",
   "execution_count": 8,
   "metadata": {
    "collapsed": true
   },
   "outputs": [],
   "source": [
    "nir_bounds = (df_raw.wl_um > 1.15) & (df_raw.wl_um < 2.45)\n",
    "df = df_raw[nir_bounds].copy()\n",
    "df = df.reset_index(drop=True)"
   ]
  },
  {
   "cell_type": "code",
   "execution_count": 9,
   "metadata": {},
   "outputs": [],
   "source": [
    "R_scale = u.km/u.earthRad"
   ]
  },
  {
   "cell_type": "code",
   "execution_count": 10,
   "metadata": {},
   "outputs": [],
   "source": [
    "df['radius_earth'] = df.radius_km * R_scale.to(u.dimensionless_unscaled)"
   ]
  },
  {
   "cell_type": "code",
   "execution_count": 11,
   "metadata": {
    "collapsed": true
   },
   "outputs": [],
   "source": [
    "R_GJ1215 = 0.2064 #R_sun"
   ]
  },
  {
   "cell_type": "markdown",
   "metadata": {},
   "source": [
    "The peak transit depth is:\n",
    "\n",
    "transit_depth = $\\frac{R^2_{\\mathrm{planet}}}{R^2_\\star} $"
   ]
  },
  {
   "cell_type": "code",
   "execution_count": 12,
   "metadata": {},
   "outputs": [],
   "source": [
    "df['radius_Rstar'] = df.radius_km*(u.km/(R_GJ1215*u.solRad)).to(u.dimensionless_unscaled)"
   ]
  },
  {
   "cell_type": "code",
   "execution_count": 13,
   "metadata": {
    "collapsed": true
   },
   "outputs": [],
   "source": [
    "df['transit_depth'] = df.radius_Rstar**2"
   ]
  },
  {
   "cell_type": "code",
   "execution_count": 14,
   "metadata": {},
   "outputs": [
    {
     "data": {
      "text/html": [
       "<div>\n",
       "<style>\n",
       "    .dataframe thead tr:only-child th {\n",
       "        text-align: right;\n",
       "    }\n",
       "\n",
       "    .dataframe thead th {\n",
       "        text-align: left;\n",
       "    }\n",
       "\n",
       "    .dataframe tbody tr th {\n",
       "        vertical-align: top;\n",
       "    }\n",
       "</style>\n",
       "<table border=\"1\" class=\"dataframe\">\n",
       "  <thead>\n",
       "    <tr style=\"text-align: right;\">\n",
       "      <th></th>\n",
       "      <th>wl_um</th>\n",
       "      <th>radius_km</th>\n",
       "      <th>radius_earth</th>\n",
       "      <th>radius_Rstar</th>\n",
       "      <th>transit_depth</th>\n",
       "    </tr>\n",
       "  </thead>\n",
       "  <tbody>\n",
       "    <tr>\n",
       "      <th>0</th>\n",
       "      <td>2.4498</td>\n",
       "      <td>17594.8517</td>\n",
       "      <td>2.758635</td>\n",
       "      <td>0.122533</td>\n",
       "      <td>0.015014</td>\n",
       "    </tr>\n",
       "    <tr>\n",
       "      <th>1</th>\n",
       "      <td>2.4490</td>\n",
       "      <td>17678.5573</td>\n",
       "      <td>2.771759</td>\n",
       "      <td>0.123116</td>\n",
       "      <td>0.015158</td>\n",
       "    </tr>\n",
       "    <tr>\n",
       "      <th>2</th>\n",
       "      <td>2.4483</td>\n",
       "      <td>17738.6207</td>\n",
       "      <td>2.781176</td>\n",
       "      <td>0.123534</td>\n",
       "      <td>0.015261</td>\n",
       "    </tr>\n",
       "    <tr>\n",
       "      <th>3</th>\n",
       "      <td>2.4476</td>\n",
       "      <td>17495.1344</td>\n",
       "      <td>2.743001</td>\n",
       "      <td>0.121839</td>\n",
       "      <td>0.014845</td>\n",
       "    </tr>\n",
       "    <tr>\n",
       "      <th>4</th>\n",
       "      <td>2.4469</td>\n",
       "      <td>17503.0088</td>\n",
       "      <td>2.744236</td>\n",
       "      <td>0.121894</td>\n",
       "      <td>0.014858</td>\n",
       "    </tr>\n",
       "  </tbody>\n",
       "</table>\n",
       "</div>"
      ],
      "text/plain": [
       "    wl_um   radius_km  radius_earth  radius_Rstar  transit_depth\n",
       "0  2.4498  17594.8517      2.758635      0.122533       0.015014\n",
       "1  2.4490  17678.5573      2.771759      0.123116       0.015158\n",
       "2  2.4483  17738.6207      2.781176      0.123534       0.015261\n",
       "3  2.4476  17495.1344      2.743001      0.121839       0.014845\n",
       "4  2.4469  17503.0088      2.744236      0.121894       0.014858"
      ]
     },
     "execution_count": 14,
     "metadata": {},
     "output_type": "execute_result"
    }
   ],
   "source": [
    "df.head()"
   ]
  },
  {
   "cell_type": "code",
   "execution_count": 15,
   "metadata": {},
   "outputs": [
    {
     "data": {
      "text/plain": [
       "<matplotlib.text.Text at 0xa1b8f47f0>"
      ]
     },
     "execution_count": 15,
     "metadata": {},
     "output_type": "execute_result"
    },
    {
     "data": {
      "image/png": "[encoded data removed]",
      "text/plain": [
       "<matplotlib.figure.Figure at 0xa1b892c50>"
      ]
     },
     "metadata": {
      "image/png": {
       "height": 265,
       "width": 387
      }
     },
     "output_type": "display_data"
    }
   ],
   "source": [
    "plt.plot(df.wl_um, df.transit_depth*100.0)\n",
    "plt.xlabel('$\\lambda \\;(\\mu \\mathrm{m})$')\n",
    "plt.xlabel('$\\lambda \\;(\\mu \\mathrm{m})$')\n",
    "plt.ylabel('Transit depth (%)')"
   ]
  },
  {
   "cell_type": "code",
   "execution_count": 17,
   "metadata": {},
   "outputs": [
    {
     "data": {
      "text/plain": [
       "0.0006752774173740762"
      ]
     },
     "execution_count": 17,
     "metadata": {},
     "output_type": "execute_result"
    }
   ],
   "source": [
    "df.transit_depth.std()"
   ]
  },
  {
   "cell_type": "markdown",
   "metadata": {},
   "source": [
    "Neat!"
   ]
  }
 ],
 "metadata": {
  "kernelspec": {
   "display_name": "Python 3",
   "language": "python",
   "name": "python3"
  },
  "language_info": {
   "codemirror_mode": {
    "name": "ipython",
    "version": 3
   },
   "file_extension": ".py",
   "mimetype": "text/x-python",
   "name": "python",
   "nbconvert_exporter": "python",
   "pygments_lexer": "ipython3",
   "version": "3.6.3"
  }
 },
 "nbformat": 4,
 "nbformat_minor": 2
}
