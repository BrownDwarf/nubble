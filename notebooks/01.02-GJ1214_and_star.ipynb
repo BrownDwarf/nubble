{
 "cells": [
  {
   "cell_type": "markdown",
   "metadata": {},
   "source": [
    "# Planet transit simulations"
   ]
  },
  {
   "cell_type": "markdown",
   "metadata": {},
   "source": [
    "Here we try to plot an exoplanet transit spectrum."
   ]
  },
  {
   "cell_type": "code",
   "execution_count": 1,
   "metadata": {
    "collapsed": true
   },
   "outputs": [],
   "source": [
    "# %load ~/Desktop/defaults.py\n",
    "import pandas as pd\n",
    "import numpy as np\n",
    "import matplotlib.pyplot as plt\n",
    "%matplotlib inline\n",
    "%config InlineBackend.figure_format = 'retina'"
   ]
  },
  {
   "cell_type": "code",
   "execution_count": 2,
   "metadata": {
    "collapsed": true
   },
   "outputs": [],
   "source": [
    "import astropy.units as u"
   ]
  },
  {
   "cell_type": "markdown",
   "metadata": {},
   "source": [
    "### Get exoplanet transit spectrum\n",
    "\n",
    "We can use Caroline Morley's models from [her website](https://www.carolinemorley.com/models).  We want:\n",
    "\n",
    "\"MORLEY ET AL. 2015: SUB-NEPTUNE MODELS INCLUDING THE EFFECTS OF CLOUDS AND HAZES\"\n",
    "> Models of GJ 1214b “analogs” from Morley et al. 2015, including cloudy, hazy, and cloud-free models. These include thermal emission, transmission, and albedo spectra. Other similar models available upon request. "
   ]
  },
  {
   "cell_type": "markdown",
   "metadata": {},
   "source": [
    "Let's read in the transmission spectra data."
   ]
  },
  {
   "cell_type": "code",
   "execution_count": 3,
   "metadata": {
    "collapsed": true
   },
   "outputs": [],
   "source": [
    "#! cat ../data/Morley2015_models/published_models/_README.txt"
   ]
  },
  {
   "cell_type": "code",
   "execution_count": 4,
   "metadata": {},
   "outputs": [
    {
     "name": "stdout",
     "output_type": "stream",
     "text": [
      "gj1214-1000x-0.3x-nc.spec gj1214-150x-1x-nc.spec    gj1214-300x-0.3x-nc.spec\r\n",
      "gj1214-1000x-10x-nc.spec  gj1214-150x-3x-nc.spec    gj1214-300x-10x-nc.spec\r\n",
      "gj1214-1000x-1x-nc.spec   gj1214-200x-0.3x-nc.spec  gj1214-300x-1x-nc.spec\r\n",
      "gj1214-1000x-3x-nc.spec   gj1214-200x-10x-nc.spec   gj1214-300x-3x-nc.spec\r\n",
      "gj1214-100x-0.3x-nc.spec  gj1214-200x-1x-nc.spec    gj1214-50x-0.3x-nc.spec\r\n",
      "gj1214-100x-10x-nc.spec   gj1214-200x-3x-nc.spec    gj1214-50x-10x-nc.spec\r\n",
      "gj1214-100x-1x-nc.spec    gj1214-250x-0.3x-nc.spec  gj1214-50x-1x-nc.spec\r\n",
      "gj1214-100x-3x-nc.spec    gj1214-250x-10x-nc.spec   gj1214-50x-30x-nc.spec\r\n",
      "gj1214-150x-0.3x-nc.spec  gj1214-250x-1x-nc.spec    gj1214-50x-3x-nc.spec\r\n",
      "gj1214-150x-10x-nc.spec   gj1214-250x-3x-nc.spec\r\n"
     ]
    }
   ],
   "source": [
    "! ls ../data/Morley2015_models/published_models/emission_spectra/cloud-free/"
   ]
  },
  {
   "cell_type": "markdown",
   "metadata": {},
   "source": [
    "The file names describe the contents.\n",
    "> cloud-free:\n",
    "gj1214-METALLICITY-INCIDENTFLUX-nc.[[append]]\n",
    "e.g. gj1214-50x-0.3x-nc.spec is 50x solar, 0.3x GJ 1214b's\n",
    "\tincident flux, and cloud-free, emission spectrum. "
   ]
  },
  {
   "cell_type": "code",
   "execution_count": 5,
   "metadata": {},
   "outputs": [
    {
     "name": "stdout",
     "output_type": "stream",
     "text": [
      "wavelength (microns) \t radius (km) \r\n",
      "      30.0000   17201.5230     \r\n",
      "      29.9911   17065.3259     \r\n",
      "      29.9822   17110.6001     \r\n",
      "      29.9733   17276.7692     \r\n",
      "      29.9644   17066.4351     \r\n",
      "      29.9555   17084.3500     \r\n",
      "      29.9466   17123.8913     \r\n",
      "      29.9377   17213.5251     \r\n",
      "      29.9289   17356.1280     \r\n"
     ]
    }
   ],
   "source": [
    "! head ../data/Morley2015_models/published_models/transmission_spectra/cloud-free/gj1214-100x-1x-nc.out"
   ]
  },
  {
   "cell_type": "code",
   "execution_count": 6,
   "metadata": {
    "collapsed": true
   },
   "outputs": [],
   "source": [
    "fn = '../data/Morley2015_models/published_models/transmission_spectra/cloud-free/gj1214-100x-1x-nc.out'\n",
    "df_raw = pd.read_csv(fn, delim_whitespace=True, names=['wl_um', 'radius_km'], skiprows=1)"
   ]
  },
  {
   "cell_type": "code",
   "execution_count": 7,
   "metadata": {},
   "outputs": [
    {
     "data": {
      "text/html": [
       "<div>\n",
       "<style>\n",
       "    .dataframe thead tr:only-child th {\n",
       "        text-align: right;\n",
       "    }\n",
       "\n",
       "    .dataframe thead th {\n",
       "        text-align: left;\n",
       "    }\n",
       "\n",
       "    .dataframe tbody tr th {\n",
       "        vertical-align: top;\n",
       "    }\n",
       "</style>\n",
       "<table border=\"1\" class=\"dataframe\">\n",
       "  <thead>\n",
       "    <tr style=\"text-align: right;\">\n",
       "      <th></th>\n",
       "      <th>wl_um</th>\n",
       "      <th>radius_km</th>\n",
       "    </tr>\n",
       "  </thead>\n",
       "  <tbody>\n",
       "    <tr>\n",
       "      <th>0</th>\n",
       "      <td>30.0000</td>\n",
       "      <td>17201.5230</td>\n",
       "    </tr>\n",
       "    <tr>\n",
       "      <th>1</th>\n",
       "      <td>29.9911</td>\n",
       "      <td>17065.3259</td>\n",
       "    </tr>\n",
       "    <tr>\n",
       "      <th>2</th>\n",
       "      <td>29.9822</td>\n",
       "      <td>17110.6001</td>\n",
       "    </tr>\n",
       "    <tr>\n",
       "      <th>3</th>\n",
       "      <td>29.9733</td>\n",
       "      <td>17276.7692</td>\n",
       "    </tr>\n",
       "    <tr>\n",
       "      <th>4</th>\n",
       "      <td>29.9644</td>\n",
       "      <td>17066.4351</td>\n",
       "    </tr>\n",
       "  </tbody>\n",
       "</table>\n",
       "</div>"
      ],
      "text/plain": [
       "     wl_um   radius_km\n",
       "0  30.0000  17201.5230\n",
       "1  29.9911  17065.3259\n",
       "2  29.9822  17110.6001\n",
       "3  29.9733  17276.7692\n",
       "4  29.9644  17066.4351"
      ]
     },
     "execution_count": 7,
     "metadata": {},
     "output_type": "execute_result"
    }
   ],
   "source": [
    "df_raw.head()"
   ]
  },
  {
   "cell_type": "code",
   "execution_count": 8,
   "metadata": {
    "collapsed": true
   },
   "outputs": [],
   "source": [
    "nir_bounds = (df_raw.wl_um > 1.15) & (df_raw.wl_um < 2.45)\n",
    "df = df_raw#[nir_bounds].copy()\n",
    "df = df.reset_index(drop=True)"
   ]
  },
  {
   "cell_type": "code",
   "execution_count": 9,
   "metadata": {
    "collapsed": true
   },
   "outputs": [],
   "source": [
    "R_scale = u.km/u.earthRad"
   ]
  },
  {
   "cell_type": "code",
   "execution_count": 10,
   "metadata": {
    "collapsed": true
   },
   "outputs": [],
   "source": [
    "df['radius_earth'] = df.radius_km * R_scale.to(u.dimensionless_unscaled)"
   ]
  },
  {
   "cell_type": "code",
   "execution_count": 11,
   "metadata": {
    "collapsed": true
   },
   "outputs": [],
   "source": [
    "R_GJ1215 = 0.2064 #R_sun"
   ]
  },
  {
   "cell_type": "markdown",
   "metadata": {},
   "source": [
    "The peak transit depth is:\n",
    "\n",
    "transit_depth = $\\frac{R^2_{\\mathrm{planet}}}{R^2_\\star} $"
   ]
  },
  {
   "cell_type": "code",
   "execution_count": 12,
   "metadata": {
    "collapsed": true
   },
   "outputs": [],
   "source": [
    "df['radius_Rstar'] = df.radius_km*(u.km/(R_GJ1215*u.solRad)).to(u.dimensionless_unscaled)"
   ]
  },
  {
   "cell_type": "code",
   "execution_count": 13,
   "metadata": {
    "collapsed": true
   },
   "outputs": [],
   "source": [
    "df['transit_depth'] = df.radius_Rstar**2"
   ]
  },
  {
   "cell_type": "code",
   "execution_count": 14,
   "metadata": {},
   "outputs": [
    {
     "data": {
      "text/html": [
       "<div>\n",
       "<style>\n",
       "    .dataframe thead tr:only-child th {\n",
       "        text-align: right;\n",
       "    }\n",
       "\n",
       "    .dataframe thead th {\n",
       "        text-align: left;\n",
       "    }\n",
       "\n",
       "    .dataframe tbody tr th {\n",
       "        vertical-align: top;\n",
       "    }\n",
       "</style>\n",
       "<table border=\"1\" class=\"dataframe\">\n",
       "  <thead>\n",
       "    <tr style=\"text-align: right;\">\n",
       "      <th></th>\n",
       "      <th>wl_um</th>\n",
       "      <th>radius_km</th>\n",
       "      <th>radius_earth</th>\n",
       "      <th>radius_Rstar</th>\n",
       "      <th>transit_depth</th>\n",
       "    </tr>\n",
       "  </thead>\n",
       "  <tbody>\n",
       "    <tr>\n",
       "      <th>0</th>\n",
       "      <td>30.0000</td>\n",
       "      <td>17201.5230</td>\n",
       "      <td>2.696967</td>\n",
       "      <td>0.119794</td>\n",
       "      <td>0.014351</td>\n",
       "    </tr>\n",
       "    <tr>\n",
       "      <th>1</th>\n",
       "      <td>29.9911</td>\n",
       "      <td>17065.3259</td>\n",
       "      <td>2.675613</td>\n",
       "      <td>0.118846</td>\n",
       "      <td>0.014124</td>\n",
       "    </tr>\n",
       "    <tr>\n",
       "      <th>2</th>\n",
       "      <td>29.9822</td>\n",
       "      <td>17110.6001</td>\n",
       "      <td>2.682711</td>\n",
       "      <td>0.119161</td>\n",
       "      <td>0.014199</td>\n",
       "    </tr>\n",
       "    <tr>\n",
       "      <th>3</th>\n",
       "      <td>29.9733</td>\n",
       "      <td>17276.7692</td>\n",
       "      <td>2.708764</td>\n",
       "      <td>0.120318</td>\n",
       "      <td>0.014476</td>\n",
       "    </tr>\n",
       "    <tr>\n",
       "      <th>4</th>\n",
       "      <td>29.9644</td>\n",
       "      <td>17066.4351</td>\n",
       "      <td>2.675787</td>\n",
       "      <td>0.118853</td>\n",
       "      <td>0.014126</td>\n",
       "    </tr>\n",
       "  </tbody>\n",
       "</table>\n",
       "</div>"
      ],
      "text/plain": [
       "     wl_um   radius_km  radius_earth  radius_Rstar  transit_depth\n",
       "0  30.0000  17201.5230      2.696967      0.119794       0.014351\n",
       "1  29.9911  17065.3259      2.675613      0.118846       0.014124\n",
       "2  29.9822  17110.6001      2.682711      0.119161       0.014199\n",
       "3  29.9733  17276.7692      2.708764      0.120318       0.014476\n",
       "4  29.9644  17066.4351      2.675787      0.118853       0.014126"
      ]
     },
     "execution_count": 14,
     "metadata": {},
     "output_type": "execute_result"
    }
   ],
   "source": [
    "df.head()"
   ]
  },
  {
   "cell_type": "code",
   "execution_count": null,
   "metadata": {
    "collapsed": true
   },
   "outputs": [],
   "source": []
  },
  {
   "cell_type": "code",
   "execution_count": 15,
   "metadata": {
    "collapsed": true
   },
   "outputs": [],
   "source": [
    "import seaborn as sns"
   ]
  },
  {
   "cell_type": "code",
   "execution_count": 16,
   "metadata": {
    "collapsed": true
   },
   "outputs": [],
   "source": [
    "sns.set_context('talk')"
   ]
  },
  {
   "cell_type": "code",
   "execution_count": 17,
   "metadata": {},
   "outputs": [
    {
     "data": {
      "text/plain": [
       "<matplotlib.text.Text at 0xa21dbd828>"
      ]
     },
     "execution_count": 17,
     "metadata": {},
     "output_type": "execute_result"
    },
    {
     "data": {
      "image/png": "[encoded data removed]",
      "text/plain": [
       "<matplotlib.figure.Figure at 0xa21c7e048>"
      ]
     },
     "metadata": {
      "image/png": {
       "height": 279,
       "width": 402
      }
     },
     "output_type": "display_data"
    }
   ],
   "source": [
    "#plt.figure(figsize=(20,10))\n",
    "plt.plot(df.wl_um, df.transit_depth*100.0)\n",
    "plt.xlabel('$\\lambda \\;(\\mu \\mathrm{m})$')\n",
    "plt.xlabel('$\\lambda \\;(\\mu \\mathrm{m})$')\n",
    "plt.ylabel('Transit depth (%)')"
   ]
  },
  {
   "cell_type": "code",
   "execution_count": 18,
   "metadata": {},
   "outputs": [
    {
     "data": {
      "text/plain": [
       "0.0008709565202580554"
      ]
     },
     "execution_count": 18,
     "metadata": {},
     "output_type": "execute_result"
    }
   ],
   "source": [
    "df.transit_depth.std()"
   ]
  },
  {
   "cell_type": "markdown",
   "metadata": {},
   "source": [
    "Neat!"
   ]
  },
  {
   "cell_type": "markdown",
   "metadata": {
    "collapsed": true
   },
   "source": [
    "### Now pass it through a computed model spectrum modified with Starfish"
   ]
  },
  {
   "cell_type": "markdown",
   "metadata": {},
   "source": [
    "From Wikipedia:\n",
    "\n",
    "$M = {0.157\\pm0.019} M_{\\odot}$   \n",
    "$R = 0.2064^{+0.0086}_{-0.0096} R_{\\odot}$  \n",
    "L = 0.00328 L_sun  \n",
    "[Fe/H] = 0.39+/- 0.15  \n",
    "P_rot = 25 days  \n",
    "Teff = 3026±130  \n",
    "logg = 4.991  \n",
    "vsini $<$2.0\n",
    "\n",
    "distance = 14 pc\n"
   ]
  },
  {
   "cell_type": "markdown",
   "metadata": {},
   "source": [
    "What is the solid angle?\n",
    "\n",
    "$\\Omega = \\frac{R^2}{d^2}$"
   ]
  },
  {
   "cell_type": "code",
   "execution_count": 19,
   "metadata": {
    "collapsed": true
   },
   "outputs": [],
   "source": [
    "omega = (0.2064*u.Rsun)**2/(14.0*u.pc)**2"
   ]
  },
  {
   "cell_type": "markdown",
   "metadata": {},
   "source": [
    "Starfish needs the log Omega."
   ]
  },
  {
   "cell_type": "code",
   "execution_count": 20,
   "metadata": {},
   "outputs": [
    {
     "data": {
      "text/latex": [
       "$-18.956694 \\; \\mathrm{}$"
      ],
      "text/plain": [
       "<Quantity -18.9566937691683>"
      ]
     },
     "execution_count": 20,
     "metadata": {},
     "output_type": "execute_result"
    }
   ],
   "source": [
    "np.log10(omega.to(u.dimensionless_unscaled))"
   ]
  },
  {
   "cell_type": "markdown",
   "metadata": {},
   "source": [
    "Following Rackham et al. 2017, with a 3.2% surface coverage of spots:"
   ]
  },
  {
   "cell_type": "code",
   "execution_count": 21,
   "metadata": {},
   "outputs": [
    {
     "data": {
      "text/latex": [
       "$-20.451544 \\; \\mathrm{}$"
      ],
      "text/plain": [
       "<Quantity -20.451543790848394>"
      ]
     },
     "execution_count": 21,
     "metadata": {},
     "output_type": "execute_result"
    }
   ],
   "source": [
    "np.log10(0.032*omega.to(u.dimensionless_unscaled))"
   ]
  },
  {
   "cell_type": "markdown",
   "metadata": {},
   "source": [
    "and delta T contrast = 354"
   ]
  },
  {
   "cell_type": "code",
   "execution_count": 22,
   "metadata": {},
   "outputs": [
    {
     "data": {
      "text/plain": [
       "2672"
      ]
     },
     "execution_count": 22,
     "metadata": {},
     "output_type": "execute_result"
    }
   ],
   "source": [
    "T_spot = 3026-354\n",
    "T_spot"
   ]
  },
  {
   "cell_type": "markdown",
   "metadata": {},
   "source": [
    "We need to make \"synthetic data\" in this directory:\n",
    "> $nubble/data/synthetic/GJ1214_synthetic.hdf5"
   ]
  },
  {
   "cell_type": "code",
   "execution_count": 23,
   "metadata": {},
   "outputs": [
    {
     "name": "stdout",
     "output_type": "stream",
     "text": [
      "mkdir: ../data/synthetic: File exists\r\n"
     ]
    }
   ],
   "source": [
    "! mkdir ../data/synthetic"
   ]
  },
  {
   "cell_type": "code",
   "execution_count": 24,
   "metadata": {
    "collapsed": true
   },
   "outputs": [],
   "source": [
    "! cp ../../xveganx/data/IGRINS/reduced/Anon1_20141118_073.hdf5 ../data/synthetic/GJ1214_synthetic.hdf5\n",
    "! cp ../../xveganx/data/IGRINS/reduced/Anon1_20141118_073.hdf5 ../data/synthetic/demo.hdf5"
   ]
  },
  {
   "cell_type": "code",
   "execution_count": 25,
   "metadata": {
    "collapsed": true
   },
   "outputs": [],
   "source": [
    "import h5py"
   ]
  },
  {
   "cell_type": "code",
   "execution_count": 26,
   "metadata": {
    "collapsed": true
   },
   "outputs": [],
   "source": [
    "f2 = h5py.File('../data/synthetic/demo.hdf5', mode='r')"
   ]
  },
  {
   "cell_type": "code",
   "execution_count": 27,
   "metadata": {},
   "outputs": [
    {
     "data": {
      "text/plain": [
       "['fls', 'masks', 'sigmas', 'wls']"
      ]
     },
     "execution_count": 27,
     "metadata": {},
     "output_type": "execute_result"
    }
   ],
   "source": [
    "list(f2.keys())"
   ]
  },
  {
   "cell_type": "code",
   "execution_count": 28,
   "metadata": {},
   "outputs": [
    {
     "data": {
      "text/plain": [
       "[1, 1, 1, 1, 1]"
      ]
     },
     "execution_count": 28,
     "metadata": {},
     "output_type": "execute_result"
    }
   ],
   "source": [
    "list(f2['masks'])[0:5]"
   ]
  },
  {
   "cell_type": "markdown",
   "metadata": {},
   "source": [
    "We need to mimic these columns."
   ]
  },
  {
   "cell_type": "code",
   "execution_count": 29,
   "metadata": {
    "collapsed": true
   },
   "outputs": [],
   "source": [
    "f2.close()"
   ]
  },
  {
   "cell_type": "code",
   "execution_count": 30,
   "metadata": {
    "collapsed": true
   },
   "outputs": [],
   "source": [
    "f1 = h5py.File('../data/synthetic/GJ1214_synthetic.hdf5', mode='w')"
   ]
  },
  {
   "cell_type": "code",
   "execution_count": 31,
   "metadata": {},
   "outputs": [
    {
     "data": {
      "text/plain": [
       "[]"
      ]
     },
     "execution_count": 31,
     "metadata": {},
     "output_type": "execute_result"
    }
   ],
   "source": [
    "list(f1.keys())"
   ]
  },
  {
   "cell_type": "markdown",
   "metadata": {},
   "source": [
    "Let's pick a spectral resolution:\n",
    "\n",
    "R ~ 1000   \n",
    "3.0 pixels per slit sampling  \n",
    "delta_lam = 1.1 - 1.6 micron"
   ]
  },
  {
   "cell_type": "markdown",
   "metadata": {},
   "source": [
    "res = lam / dlam   \n",
    "dlam= lam / res"
   ]
  },
  {
   "cell_type": "code",
   "execution_count": 32,
   "metadata": {
    "collapsed": true
   },
   "outputs": [],
   "source": [
    "Res = 1000.0\n",
    "samp = 3.0\n",
    "delta_lam = 1.3 #nm"
   ]
  },
  {
   "cell_type": "code",
   "execution_count": 33,
   "metadata": {},
   "outputs": [
    {
     "data": {
      "text/plain": [
       "0.43333333333333335"
      ]
     },
     "execution_count": 33,
     "metadata": {},
     "output_type": "execute_result"
    }
   ],
   "source": [
    "1.3 /3.0"
   ]
  },
  {
   "cell_type": "code",
   "execution_count": 34,
   "metadata": {},
   "outputs": [
    {
     "data": {
      "text/plain": [
       "1162.7906976744187"
      ]
     },
     "execution_count": 34,
     "metadata": {},
     "output_type": "execute_result"
    }
   ],
   "source": [
    "500 / 0.43"
   ]
  },
  {
   "cell_type": "markdown",
   "metadata": {},
   "source": [
    "So there will be about 1200 spectral resolution elements"
   ]
  },
  {
   "cell_type": "code",
   "execution_count": 35,
   "metadata": {
    "collapsed": true
   },
   "outputs": [],
   "source": [
    "wl_arr = np.arange(11000.0, 16000.0, 4)"
   ]
  },
  {
   "cell_type": "code",
   "execution_count": 36,
   "metadata": {},
   "outputs": [
    {
     "data": {
      "text/plain": [
       "(1250,)"
      ]
     },
     "execution_count": 36,
     "metadata": {},
     "output_type": "execute_result"
    }
   ],
   "source": [
    "wl_arr.shape"
   ]
  },
  {
   "cell_type": "code",
   "execution_count": 37,
   "metadata": {
    "collapsed": true
   },
   "outputs": [],
   "source": [
    "f1['wls'] = wl_arr"
   ]
  },
  {
   "cell_type": "code",
   "execution_count": 38,
   "metadata": {
    "collapsed": true
   },
   "outputs": [],
   "source": [
    "f1['fls'] = wl_arr*0.0+1.0"
   ]
  },
  {
   "cell_type": "code",
   "execution_count": 39,
   "metadata": {
    "collapsed": true
   },
   "outputs": [],
   "source": [
    "f1['masks'] = wl_arr.astype(int)*0+1"
   ]
  },
  {
   "cell_type": "code",
   "execution_count": 40,
   "metadata": {
    "collapsed": true
   },
   "outputs": [],
   "source": [
    "f1['sigmas'] = wl_arr*0.0+0.01"
   ]
  },
  {
   "cell_type": "code",
   "execution_count": 41,
   "metadata": {},
   "outputs": [
    {
     "data": {
      "text/plain": [
       "['fls', 'masks', 'sigmas', 'wls']"
      ]
     },
     "execution_count": 41,
     "metadata": {},
     "output_type": "execute_result"
    }
   ],
   "source": [
    "list(f1.keys())"
   ]
  },
  {
   "cell_type": "code",
   "execution_count": 42,
   "metadata": {
    "collapsed": true
   },
   "outputs": [],
   "source": [
    "f1.close()"
   ]
  },
  {
   "cell_type": "code",
   "execution_count": 43,
   "metadata": {
    "collapsed": true
   },
   "outputs": [],
   "source": [
    "! ls ../sf/apra_sim/"
   ]
  },
  {
   "cell_type": "markdown",
   "metadata": {
    "collapsed": true
   },
   "source": [
    "What resolution for the spectrograph:"
   ]
  },
  {
   "cell_type": "code",
   "execution_count": 1,
   "metadata": {},
   "outputs": [
    {
     "data": {
      "text/plain": [
       "299.792"
      ]
     },
     "execution_count": 1,
     "metadata": {},
     "output_type": "execute_result"
    }
   ],
   "source": [
    "299792/1000"
   ]
  },
  {
   "cell_type": "code",
   "execution_count": 2,
   "metadata": {
    "collapsed": true
   },
   "outputs": [],
   "source": [
    "import pandas as pd"
   ]
  },
  {
   "cell_type": "code",
   "execution_count": 3,
   "metadata": {
    "collapsed": true
   },
   "outputs": [],
   "source": [
    "df = pd.read_csv('../sf/apra_sim/spec_config.csv')"
   ]
  },
  {
   "cell_type": "code",
   "execution_count": 4,
   "metadata": {},
   "outputs": [
    {
     "data": {
      "text/html": [
       "<div>\n",
       "<style>\n",
       "    .dataframe thead tr:only-child th {\n",
       "        text-align: right;\n",
       "    }\n",
       "\n",
       "    .dataframe thead th {\n",
       "        text-align: left;\n",
       "    }\n",
       "\n",
       "    .dataframe tbody tr th {\n",
       "        vertical-align: top;\n",
       "    }\n",
       "</style>\n",
       "<table border=\"1\" class=\"dataframe\">\n",
       "  <thead>\n",
       "    <tr style=\"text-align: right;\">\n",
       "      <th></th>\n",
       "      <th>data</th>\n",
       "      <th>wl</th>\n",
       "      <th>model_composite</th>\n",
       "      <th>model_cool50</th>\n",
       "      <th>model_hot50</th>\n",
       "    </tr>\n",
       "  </thead>\n",
       "  <tbody>\n",
       "    <tr>\n",
       "      <th>0</th>\n",
       "      <td>1.0</td>\n",
       "      <td>11000.0</td>\n",
       "      <td>1.435337e-14</td>\n",
       "      <td>1.552944e-15</td>\n",
       "      <td>1.489976e-14</td>\n",
       "    </tr>\n",
       "    <tr>\n",
       "      <th>1</th>\n",
       "      <td>1.0</td>\n",
       "      <td>11004.0</td>\n",
       "      <td>1.435789e-14</td>\n",
       "      <td>1.553890e-15</td>\n",
       "      <td>1.490536e-14</td>\n",
       "    </tr>\n",
       "    <tr>\n",
       "      <th>2</th>\n",
       "      <td>1.0</td>\n",
       "      <td>11008.0</td>\n",
       "      <td>1.436472e-14</td>\n",
       "      <td>1.555084e-15</td>\n",
       "      <td>1.491336e-14</td>\n",
       "    </tr>\n",
       "    <tr>\n",
       "      <th>3</th>\n",
       "      <td>1.0</td>\n",
       "      <td>11012.0</td>\n",
       "      <td>1.430989e-14</td>\n",
       "      <td>1.548817e-15</td>\n",
       "      <td>1.485577e-14</td>\n",
       "    </tr>\n",
       "    <tr>\n",
       "      <th>4</th>\n",
       "      <td>1.0</td>\n",
       "      <td>11016.0</td>\n",
       "      <td>1.418729e-14</td>\n",
       "      <td>1.533524e-15</td>\n",
       "      <td>1.472446e-14</td>\n",
       "    </tr>\n",
       "  </tbody>\n",
       "</table>\n",
       "</div>"
      ],
      "text/plain": [
       "   data       wl  model_composite  model_cool50   model_hot50\n",
       "0   1.0  11000.0     1.435337e-14  1.552944e-15  1.489976e-14\n",
       "1   1.0  11004.0     1.435789e-14  1.553890e-15  1.490536e-14\n",
       "2   1.0  11008.0     1.436472e-14  1.555084e-15  1.491336e-14\n",
       "3   1.0  11012.0     1.430989e-14  1.548817e-15  1.485577e-14\n",
       "4   1.0  11016.0     1.418729e-14  1.533524e-15  1.472446e-14"
      ]
     },
     "execution_count": 4,
     "metadata": {},
     "output_type": "execute_result"
    }
   ],
   "source": [
    "df.head()"
   ]
  },
  {
   "cell_type": "code",
   "execution_count": 9,
   "metadata": {
    "collapsed": true
   },
   "outputs": [],
   "source": [
    "# %load /Users/obsidian/Desktop/defaults.py\n",
    "import pandas as pd\n",
    "import numpy as np\n",
    "import matplotlib.pyplot as plt\n",
    "%matplotlib inline\n",
    "%config InlineBackend.figure_format = 'retina'"
   ]
  },
  {
   "cell_type": "code",
   "execution_count": 11,
   "metadata": {},
   "outputs": [
    {
     "data": {
      "text/plain": [
       "[<matplotlib.lines.Line2D at 0xa1f6a7710>]"
      ]
     },
     "execution_count": 11,
     "metadata": {},
     "output_type": "execute_result"
    },
    {
     "data": {
      "image/png": "[encoded data removed]",
      "text/plain": [
       "<matplotlib.figure.Figure at 0xa1f840ba8>"
      ]
     },
     "metadata": {
      "image/png": {
       "height": 258,
       "width": 373
      }
     },
     "output_type": "display_data"
    }
   ],
   "source": [
    "plt.plot(df.wl, df.model_composite)\n",
    "plt.plot(df.wl, df.model_hot50)I \n",
    "plt.plot(df.wl, df.model_cool50)"
   ]
  },
  {
   "cell_type": "markdown",
   "metadata": {},
   "source": [
    "Cool!! Next step is to \"noise up\" this spectrum and save it to an hdf5 file as synthetic data."
   ]
  },
  {
   "cell_type": "code",
   "execution_count": null,
   "metadata": {
    "collapsed": true
   },
   "outputs": [],
   "source": []
  }
 ],
 "metadata": {
  "kernelspec": {
   "display_name": "Python 3",
   "language": "python",
   "name": "python3"
  },
  "language_info": {
   "codemirror_mode": {
    "name": "ipython",
    "version": 3
   },
   "file_extension": ".py",
   "mimetype": "text/x-python",
   "name": "python",
   "nbconvert_exporter": "python",
   "pygments_lexer": "ipython3",
   "version": "3.6.3"
  }
 },
 "nbformat": 4,
 "nbformat_minor": 2
}
